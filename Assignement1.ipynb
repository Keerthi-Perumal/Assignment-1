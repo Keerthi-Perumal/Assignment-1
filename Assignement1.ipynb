{
  "nbformat": 4,
  "nbformat_minor": 0,
  "metadata": {
    "colab": {
      "name": "Assignement1.ipynb",
      "provenance": []
    },
    "kernelspec": {
      "name": "python3",
      "display_name": "Python 3"
    }
  },
  "cells": [
    {
      "cell_type": "markdown",
      "metadata": {
        "id": "Gp5pZKkzs2wV",
        "colab_type": "text"
      },
      "source": [
        "1. Write a program which will find all such numbers which are divisible by 7 but are not a multiple\n",
        "of 5, between 2000 and 3200 (both included). The numbers obtained should be printed in a\n",
        "comma-separated sequence on a single line.\n"
      ]
    },
    {
      "cell_type": "code",
      "metadata": {
        "id": "s1LlSC20s07t",
        "colab_type": "code",
        "outputId": "c2d854af-967a-4d0b-c8bc-0154750af2f8",
        "colab": {
          "base_uri": "https://localhost:8080/",
          "height": 323
        }
      },
      "source": [
        "n=0\n",
        "for i in range(2000,3201):\n",
        "  n += 1\n",
        "  if (i%7==0) and (i%5!=0):\n",
        "    print(i, end=\" \")\n",
        "    if(n%10==0):\n",
        "      print()"
      ],
      "execution_count": 0,
      "outputs": [
        {
          "output_type": "stream",
          "text": [
            "2002 2009 \n",
            "2016 2023 2037 2044 2051 2058 2072 2079 \n",
            "2086 2093 2107 2114 2121 2128 2142 2149 \n",
            "2156 2163 2177 2184 2191 2198 2212 2219 \n",
            "2226 2233 2247 2254 2261 2268 2282 2289 \n",
            "2296 2303 2317 2324 2331 2338 2352 2359 \n",
            "2366 2373 2387 2394 2401 2408 2422 2429 \n",
            "2436 2443 2457 2464 2471 2478 2492 2499 \n",
            "2506 2513 2527 2534 2541 2548 2562 2569 \n",
            "2576 2583 2597 2604 2611 2618 2632 2639 \n",
            "2646 2653 2667 2674 2681 2688 2702 2709 \n",
            "2716 2723 2737 2744 2751 2758 2772 2779 \n",
            "2786 2793 2807 2814 2821 2828 2842 2849 \n",
            "2856 2863 2877 2884 2891 2898 2912 2919 \n",
            "2926 2933 2947 2954 2961 2968 2982 2989 \n",
            "2996 3003 3017 3024 3031 3038 3052 3059 \n",
            "3066 3073 3087 3094 3101 3108 3122 3129 \n",
            "3136 3143 3157 3164 3171 3178 3192 3199 \n"
          ],
          "name": "stdout"
        }
      ]
    },
    {
      "cell_type": "markdown",
      "metadata": {
        "id": "n3EGPbcougBo",
        "colab_type": "text"
      },
      "source": [
        "2. Write a Python program to accept the user's first and last name and then getting them printed in\n",
        "the the reverse order with a space between first name and last name.\n"
      ]
    },
    {
      "cell_type": "code",
      "metadata": {
        "id": "JbNTTD4wuj4T",
        "colab_type": "code",
        "outputId": "2edfb2ec-7bab-4bc1-f41e-aa0e02c3872b",
        "colab": {
          "base_uri": "https://localhost:8080/",
          "height": 68
        }
      },
      "source": [
        "firstname = input('Enter firstname: ' )\n",
        "secondname = input('Enter secondname: ' )\n",
        "\n",
        "print(firstname[::-1]+\" \"+secondname[::-1])"
      ],
      "execution_count": 0,
      "outputs": [
        {
          "output_type": "stream",
          "text": [
            "Enter firstname: keerthi\n",
            "Enter secondname: perumal\n",
            "ihtreek lamurep\n"
          ],
          "name": "stdout"
        }
      ]
    },
    {
      "cell_type": "markdown",
      "metadata": {
        "id": "4z2nu08UxKf0",
        "colab_type": "text"
      },
      "source": [
        "3. Write a Python program to find the volume of a sphere with diameter 12 cm.\n",
        "Formula: V=4/3 * π * r^3\n",
        "\n",
        "\n",
        "\n",
        "\n"
      ]
    },
    {
      "cell_type": "code",
      "metadata": {
        "id": "fM363UpExiOU",
        "colab_type": "code",
        "colab": {}
      },
      "source": [
        "import math "
      ],
      "execution_count": 0,
      "outputs": []
    },
    {
      "cell_type": "code",
      "metadata": {
        "id": "lndiYEzCxHw8",
        "colab_type": "code",
        "outputId": "aae4fc4c-9c2f-4c13-bf7c-edf45c5b4600",
        "colab": {
          "base_uri": "https://localhost:8080/",
          "height": 34
        }
      },
      "source": [
        "d=12.0\n",
        "r=d/2\n",
        "\n",
        "v=(4/3)*math.pi*(r**3)\n",
        "print(v)"
      ],
      "execution_count": 0,
      "outputs": [
        {
          "output_type": "stream",
          "text": [
            "904.7786842338603\n"
          ],
          "name": "stdout"
        }
      ]
    },
    {
      "cell_type": "markdown",
      "metadata": {
        "id": "hkorAR9RyK2s",
        "colab_type": "text"
      },
      "source": [
        "1. Write a program which accepts a sequence of comma-separated numbers from console and\n",
        "generate a list."
      ]
    },
    {
      "cell_type": "code",
      "metadata": {
        "id": "Nb4hQrZsxtn8",
        "colab_type": "code",
        "outputId": "2c370f2a-97ea-4caf-9e16-c513610787fc",
        "colab": {
          "base_uri": "https://localhost:8080/",
          "height": 51
        }
      },
      "source": [
        "lis = input('Enter the comma: ')\n",
        "lis = lis.split(',')\n",
        "print((lis))"
      ],
      "execution_count": 0,
      "outputs": [
        {
          "output_type": "stream",
          "text": [
            "Enter the comma: 1,67,2,5\n",
            "['1', '67', '2', '5']\n"
          ],
          "name": "stdout"
        }
      ]
    },
    {
      "cell_type": "markdown",
      "metadata": {
        "id": "PUyMMTTTy0Sv",
        "colab_type": "text"
      },
      "source": [
        "2. Create the below pattern using nested for loop in Python.\n",
        "\n"
      ]
    },
    {
      "cell_type": "code",
      "metadata": {
        "id": "IPymtiluy4fN",
        "colab_type": "code",
        "outputId": "037ceb8d-5270-44bb-83d3-7522d0c28a1b",
        "colab": {
          "base_uri": "https://localhost:8080/",
          "height": 170
        }
      },
      "source": [
        "for i in range(5):\n",
        "  for j in range(i%5+1):\n",
        "    print('* ',end=\" \")\n",
        "  print()\n",
        "for i in range(4,0,-1):\n",
        "  for j in range(i):\n",
        "    print('* ',end=\" \")\n",
        "  print()"
      ],
      "execution_count": 0,
      "outputs": [
        {
          "output_type": "stream",
          "text": [
            "*  \n",
            "*  *  \n",
            "*  *  *  \n",
            "*  *  *  *  \n",
            "*  *  *  *  *  \n",
            "*  *  *  *  \n",
            "*  *  *  \n",
            "*  *  \n",
            "*  \n"
          ],
          "name": "stdout"
        }
      ]
    },
    {
      "cell_type": "markdown",
      "metadata": {
        "id": "O2t5Yeht39h-",
        "colab_type": "text"
      },
      "source": [
        "3.\n",
        "Write a Python program to reverse a word after accepting the input from the user."
      ]
    },
    {
      "cell_type": "code",
      "metadata": {
        "id": "C0xpK-un36Gh",
        "colab_type": "code",
        "outputId": "e0ec1147-8da6-407e-a5b3-3704c394e618",
        "colab": {
          "base_uri": "https://localhost:8080/",
          "height": 51
        }
      },
      "source": [
        "word = input('word: ' )\n",
        "print(word[::-1])"
      ],
      "execution_count": 0,
      "outputs": [
        {
          "output_type": "stream",
          "text": [
            "word: AcadGild\n",
            "dliGdacA\n"
          ],
          "name": "stdout"
        }
      ]
    },
    {
      "cell_type": "code",
      "metadata": {
        "id": "3PWmYP064YB3",
        "colab_type": "code",
        "outputId": "537184d9-4d0e-4812-c9d2-084b32e1dace",
        "colab": {
          "base_uri": "https://localhost:8080/",
          "height": 85
        }
      },
      "source": [
        "print(\"\"\"WE, THE PEOPLE OF INDIA, \n",
        "        having solemnly resolved to constitute India into a SOVEREIGN, \n",
        "                SOCIALIST, SECULAR, DEMOCRATIC REPUBLIC \n",
        "                  and to secure to all its citizens\"\"\"\n",
        ")"
      ],
      "execution_count": 0,
      "outputs": [
        {
          "output_type": "stream",
          "text": [
            "WE, THE PEOPLE OF INDIA, \n",
            "        having solemnly resolved to constitute India into a SOVEREIGN, \n",
            "                SOCIALIST, SECULAR, DEMOCRATIC REPUBLIC \n",
            "                  and to secure to all its citizens\n"
          ],
          "name": "stdout"
        }
      ]
    }
  ]
}