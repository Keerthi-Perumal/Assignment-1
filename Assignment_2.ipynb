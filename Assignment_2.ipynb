{
  "nbformat": 4,
  "nbformat_minor": 0,
  "metadata": {
    "colab": {
      "name": "Assignment 2",
      "provenance": [],
      "collapsed_sections": [],
      "toc_visible": true,
      "include_colab_link": true
    },
    "kernelspec": {
      "display_name": "Python 3",
      "name": "python3"
    }
  },
  "cells": [
    {
      "cell_type": "markdown",
      "metadata": {
        "id": "view-in-github",
        "colab_type": "text"
      },
      "source": [
        "<a href=\"https://colab.research.google.com/github/Keerthi-Perumal/Assignment-1/blob/master/Assignment_2.ipynb\" target=\"_parent\"><img src=\"https://colab.research.google.com/assets/colab-badge.svg\" alt=\"Open In Colab\"/></a>"
      ]
    },
    {
      "cell_type": "markdown",
      "metadata": {
        "id": "fNgUnD6qh-yq",
        "colab_type": "text"
      },
      "source": [
        "#Task 1\n",
        "\n",
        "---\n",
        "\n",
        "\n"
      ]
    },
    {
      "cell_type": "markdown",
      "metadata": {
        "id": "HICvgyLmv5PK",
        "colab_type": "text"
      },
      "source": [
        "1.1 Write a Python Program to implement your own myreduce() function which works exactly like\n",
        "Python's built-in function reduce()"
      ]
    },
    {
      "cell_type": "code",
      "metadata": {
        "id": "uJNpgc8HutcZ",
        "colab_type": "code",
        "colab": {
          "base_uri": "https://localhost:8080/",
          "height": 34
        },
        "outputId": "84b3c018-f58c-4cb1-e9cb-99ee80d41edb"
      },
      "source": [
        "dif = lambda a,b: a-b\n",
        "def myReduce(fun,seq):\n",
        "  res = seq[0]\n",
        "  for i in seq[1:]:\n",
        "   res = fun(res, i)\n",
        "  return res\n",
        "\n",
        "myReduce(dif,[100,50,5])"
      ],
      "execution_count": 76,
      "outputs": [
        {
          "output_type": "execute_result",
          "data": {
            "text/plain": [
              "45"
            ]
          },
          "metadata": {
            "tags": []
          },
          "execution_count": 76
        }
      ]
    },
    {
      "cell_type": "markdown",
      "metadata": {
        "id": "E-u1pp_Tv5uJ",
        "colab_type": "text"
      },
      "source": [
        "1.2 Write a Python program to implement your own myfilter() function which works exactly like\n",
        "Python's built-in function filter()"
      ]
    },
    {
      "cell_type": "code",
      "metadata": {
        "id": "EydDRI3DsaIK",
        "colab_type": "code",
        "colab": {
          "base_uri": "https://localhost:8080/",
          "height": 34
        },
        "outputId": "2954a362-311d-48d8-9066-c25cafcb91a7"
      },
      "source": [
        "def isOdd(n):\n",
        "  if n%2==0:\n",
        "    return False\n",
        "  else:\n",
        "    return True\n",
        "def myFilter(fun,seq):\n",
        "  res =[]\n",
        "  for i in seq:\n",
        "   if fun(i):\n",
        "    res.append(i)\n",
        "  return res\n",
        "list(myFilter(isOdd,nlist))"
      ],
      "execution_count": 77,
      "outputs": [
        {
          "output_type": "execute_result",
          "data": {
            "text/plain": [
              "[1, 3, 5]"
            ]
          },
          "metadata": {
            "tags": []
          },
          "execution_count": 77
        }
      ]
    },
    {
      "cell_type": "markdown",
      "metadata": {
        "id": "_JHy3SkAeZm9",
        "colab_type": "text"
      },
      "source": [
        "2. Implement List comprehensions to produce the following lists.\n",
        "Write List comprehensions to produce the following Lists\n",
        "['A', 'C', 'A', 'D', 'G', 'I', ’L’, ‘ D’]\n",
        "\n",
        "\n",
        "\n"
      ]
    },
    {
      "cell_type": "code",
      "metadata": {
        "id": "n7v7ELeYf_Yh",
        "colab_type": "code",
        "colab": {
          "base_uri": "https://localhost:8080/",
          "height": 34
        },
        "outputId": "b1c72b73-f2e8-4a2d-f3ed-d99cfbe65164"
      },
      "source": [
        "ls = \"ACADGILD\"\n",
        "op0 = [i for i in ls]\n",
        "print(op0)"
      ],
      "execution_count": 1,
      "outputs": [
        {
          "output_type": "stream",
          "text": [
            "['A', 'C', 'A', 'D', 'G', 'I', 'L', 'D']\n"
          ],
          "name": "stdout"
        }
      ]
    },
    {
      "cell_type": "markdown",
      "metadata": {
        "id": "c6GmEH_xe2H8",
        "colab_type": "text"
      },
      "source": [
        "List comprehensions to produce the following Lists\n",
        "**['x', 'xx', 'xxx', 'xxxx', 'y', 'yy', 'yyy', 'yyyy', 'z', 'zz', 'zzz', 'zzzz']**"
      ]
    },
    {
      "cell_type": "code",
      "metadata": {
        "id": "OooYcOEkeRbp",
        "colab_type": "code",
        "colab": {
          "base_uri": "https://localhost:8080/",
          "height": 34
        },
        "outputId": "54621c8f-75ae-4cc0-c36d-3dac2b7b2b76"
      },
      "source": [
        "l = ['x','y','z']\n",
        "op1 = [i*n for i in l for n in range(1,5)]\n",
        "op1"
      ],
      "execution_count": 2,
      "outputs": [
        {
          "output_type": "execute_result",
          "data": {
            "text/plain": [
              "['x', 'xx', 'xxx', 'xxxx', 'y', 'yy', 'yyy', 'yyyy', 'z', 'zz', 'zzz', 'zzzz']"
            ]
          },
          "metadata": {
            "tags": []
          },
          "execution_count": 2
        }
      ]
    },
    {
      "cell_type": "markdown",
      "metadata": {
        "id": "dJPKMVfWe-9h",
        "colab_type": "text"
      },
      "source": [
        "List comprehensions to produce the following Lists\n",
        "**['x', 'y', 'z', 'xx', 'yy', 'zz', 'xx', 'yy', 'zz', 'xxxx', 'yyyy', 'zzzz']**"
      ]
    },
    {
      "cell_type": "code",
      "metadata": {
        "id": "z1_j23xwfokV",
        "colab_type": "code",
        "colab": {
          "base_uri": "https://localhost:8080/",
          "height": 34
        },
        "outputId": "114e2da1-2d46-472f-b669-fb6350ec0de0"
      },
      "source": [
        "op2 = [i*n for n in range(1,5) for i in l]\n",
        "op2\n"
      ],
      "execution_count": 3,
      "outputs": [
        {
          "output_type": "execute_result",
          "data": {
            "text/plain": [
              "['x', 'y', 'z', 'xx', 'yy', 'zz', 'xxx', 'yyy', 'zzz', 'xxxx', 'yyyy', 'zzzz']"
            ]
          },
          "metadata": {
            "tags": []
          },
          "execution_count": 3
        }
      ]
    },
    {
      "cell_type": "markdown",
      "metadata": {
        "id": "MdLNNgWaiw1G",
        "colab_type": "text"
      },
      "source": [
        "List comprehensions to produce the following Lists\n",
        "**[[2], [3], [4], [3], [4], [5], [4], [5], [6]]**"
      ]
    },
    {
      "cell_type": "code",
      "metadata": {
        "id": "AWzSXZIogIAN",
        "colab_type": "code",
        "colab": {
          "base_uri": "https://localhost:8080/",
          "height": 34
        },
        "outputId": "0e41d823-90da-424a-c347-fd4f922f2881"
      },
      "source": [
        "start = 2\n",
        "op3 = [[b] for a in range(start,start+3) for b in range(a,a+3)  ]\n",
        "op3"
      ],
      "execution_count": 4,
      "outputs": [
        {
          "output_type": "execute_result",
          "data": {
            "text/plain": [
              "[[2], [3], [4], [3], [4], [5], [4], [5], [6]]"
            ]
          },
          "metadata": {
            "tags": []
          },
          "execution_count": 4
        }
      ]
    },
    {
      "cell_type": "markdown",
      "metadata": {
        "id": "4U7kTBpWfMqQ",
        "colab_type": "text"
      },
      "source": [
        "List comprehensions to produce the following Lists\n",
        "**[[2, 3, 4, 5], [3, 4, 5, 6], [4, 5, 6, 7], [5, 6, 7, 8]]**"
      ]
    },
    {
      "cell_type": "code",
      "metadata": {
        "id": "mhRnhSmIjHHa",
        "colab_type": "code",
        "colab": {
          "base_uri": "https://localhost:8080/",
          "height": 34
        },
        "outputId": "f5dbbed3-87c5-4a41-a355-6383c61fd0c1"
      },
      "source": [
        "op4 = [[b for b in range(a,a+4) ]for a in range(start,start+4)]   \n",
        "op4"
      ],
      "execution_count": 5,
      "outputs": [
        {
          "output_type": "execute_result",
          "data": {
            "text/plain": [
              "[[2, 3, 4, 5], [3, 4, 5, 6], [4, 5, 6, 7], [5, 6, 7, 8]]"
            ]
          },
          "metadata": {
            "tags": []
          },
          "execution_count": 5
        }
      ]
    },
    {
      "cell_type": "markdown",
      "metadata": {
        "id": "-VVNbcm0fhDi",
        "colab_type": "text"
      },
      "source": [
        "List comprehensions to produce the following Lists\n",
        "**[(1, 1), (2, 1), (3, 1), (1, 2), (2, 2), (3, 2), (1, 3), (2, 3),(3, 3)]**"
      ]
    },
    {
      "cell_type": "code",
      "metadata": {
        "id": "0_t63XyvjpZB",
        "colab_type": "code",
        "colab": {
          "base_uri": "https://localhost:8080/",
          "height": 34
        },
        "outputId": "f4a9d652-fe18-4f9b-cb30-7e0abd3ae0dd"
      },
      "source": [
        "op5 = [(j,i) for i in range(1,4) for j in range(1,4)]\n",
        "op5"
      ],
      "execution_count": 6,
      "outputs": [
        {
          "output_type": "execute_result",
          "data": {
            "text/plain": [
              "[(1, 1), (2, 1), (3, 1), (1, 2), (2, 2), (3, 2), (1, 3), (2, 3), (3, 3)]"
            ]
          },
          "metadata": {
            "tags": []
          },
          "execution_count": 6
        }
      ]
    },
    {
      "cell_type": "markdown",
      "metadata": {
        "id": "Z5FzM4UkgfCk",
        "colab_type": "text"
      },
      "source": [
        "3. Implement a function longestWord() that takes a list of words \n",
        "and returns the longest one"
      ]
    },
    {
      "cell_type": "code",
      "metadata": {
        "id": "P1wUVqgEpJMW",
        "colab_type": "code",
        "colab": {
          "base_uri": "https://localhost:8080/",
          "height": 34
        },
        "outputId": "17b8f08a-5a81-4e85-bf9c-cb0fe4f7380e"
      },
      "source": [
        "def longestword(wordlist):\n",
        "  len_list = [len(l) for l in wordlist]\n",
        "  idx = len_list.index((max(len_list)))\n",
        "  return str(wordlist[idx])\n",
        "wordlist=[\"Hi\",\"Hello\",\"Thanks dude\"]\n",
        "print(\"Longest word in list: \",longestword(wordlist))"
      ],
      "execution_count": 8,
      "outputs": [
        {
          "output_type": "stream",
          "text": [
            "Longest word in list:  Thanks dude\n"
          ],
          "name": "stdout"
        }
      ]
    },
    {
      "cell_type": "markdown",
      "metadata": {
        "id": "oG78g5EQgy4K",
        "colab_type": "text"
      },
      "source": [
        "# **TASK 2**\n",
        "\n",
        "---\n",
        "\n",
        "\n"
      ]
    },
    {
      "cell_type": "markdown",
      "metadata": {
        "id": "BEjGv0QBqDrP",
        "colab_type": "text"
      },
      "source": [
        "1.1 Write a Python Program(with class concepts) to find the area of the triangle using the below\n",
        "formula."
      ]
    },
    {
      "cell_type": "code",
      "metadata": {
        "id": "9XWY8Ee7mOkW",
        "colab_type": "code",
        "colab": {
          "base_uri": "https://localhost:8080/",
          "height": 87
        },
        "outputId": "af29ff92-c4c8-489b-da14-e40ce5c54686"
      },
      "source": [
        "class sides:\n",
        "  def __init__(self):\n",
        "    self.a = float(input('Please Enter the First side of a Triangle: '))\n",
        "    self.b = float(input('Please Enter the Second side of a Triangle: '))\n",
        "    self.c = float(input('Please Enter the Third side of a Triangle: '))\n",
        "    self.s = self.a+self.b+self.c\n",
        "\n",
        "  def set_sides(self):\n",
        "    return self.s,self.a,self.b,self.c\n",
        "\n",
        "class areas(sides):\n",
        "  def __init__(self):\n",
        "    super().__init__()\n",
        "  def area(self):\n",
        "    self.s,self.a,self.b,self.c = super().set_sides()\n",
        "    return (self.s*(self.s-self.a)*(self.s-self.b)*(self.s-self.c)) ** 0.5\n",
        "\n",
        "b = areas()\n",
        "print(\"Area of Triangle:  \",b.area())"
      ],
      "execution_count": 57,
      "outputs": [
        {
          "output_type": "stream",
          "text": [
            "Please Enter the First side of a Triangle: 2\n",
            "Please Enter the Second side of a Triangle: 2\n",
            "Please Enter the Third side of a Triangle: 2\n",
            "Area of Triangle:   19.595917942265423\n"
          ],
          "name": "stdout"
        }
      ]
    },
    {
      "cell_type": "markdown",
      "metadata": {
        "id": "ZkHQpASeg5ey",
        "colab_type": "text"
      },
      "source": [
        "1.2 Write a function filter_long_words() that takes a list of words and an integer n and returns the list\n",
        "of words that are longer than n."
      ]
    },
    {
      "cell_type": "code",
      "metadata": {
        "id": "5Odh3Gi5rt1q",
        "colab_type": "code",
        "colab": {
          "base_uri": "https://localhost:8080/",
          "height": 52
        },
        "outputId": "8e84e192-7a02-42a7-b83d-a4d31206c990"
      },
      "source": [
        "def longerWords(wordlist,n):\n",
        "  return [l for l in wordlist if len(l)>n]\n",
        "wordlist=[\"Hi\",\"Hello\",\"Thanks dude\",\"ineuron\",\"world\"]\n",
        "n=3\n",
        "print(\"words with more than \",n,\" characters\")\n",
        "print(longerWords(wordlist,n))"
      ],
      "execution_count": 9,
      "outputs": [
        {
          "output_type": "stream",
          "text": [
            "words with more than  3  characters\n",
            "['Hello', 'Thanks dude', 'ineuron', 'world']\n"
          ],
          "name": "stdout"
        }
      ]
    },
    {
      "cell_type": "markdown",
      "metadata": {
        "id": "oqV2524ZhTgl",
        "colab_type": "text"
      },
      "source": [
        "2.1 Write a Python program using function concept that maps list of words into a list of integers\n",
        "representing the lengths of the corresponding words.\n"
      ]
    },
    {
      "cell_type": "code",
      "metadata": {
        "id": "cXkTdHsGrFE_",
        "colab_type": "code",
        "colab": {
          "base_uri": "https://localhost:8080/",
          "height": 70
        },
        "outputId": "cc470f67-9209-4237-dc65-b0c9c2dcf9c1"
      },
      "source": [
        "def lengthofword(wordlist):\n",
        "  return [len(l) for l in wordlist]\n",
        "wordlist=[\"Hi\",\"Hello\",\"Thanks dude\"]\n",
        "print(\"Length of words in list\")\n",
        "print(wordlist)\n",
        "print(lengthofword(wordlist))"
      ],
      "execution_count": 10,
      "outputs": [
        {
          "output_type": "stream",
          "text": [
            "Length of words in list\n",
            "['Hi', 'Hello', 'Thanks dude']\n",
            "[2, 5, 11]\n"
          ],
          "name": "stdout"
        }
      ]
    },
    {
      "cell_type": "markdown",
      "metadata": {
        "id": "7_M4nQGrha6K",
        "colab_type": "text"
      },
      "source": [
        "2.2 Write a Python function which takes a character (i.e. a string of length 1) and returns True if it is\n",
        "a vowel, False otherwise.\n"
      ]
    },
    {
      "cell_type": "code",
      "metadata": {
        "id": "2cNBH8oHqA_K",
        "colab_type": "code",
        "outputId": "338db63b-b92c-423e-a381-b3840521fff4",
        "colab": {
          "base_uri": "https://localhost:8080/",
          "height": 52
        }
      },
      "source": [
        "def isVowel(c):\n",
        "  return c.lower() in ['a','e','i','o','u']\n",
        "\n",
        "print(\"\\\"A\\\" is vowel: \" ,isVowel('A'))\n",
        "print(\"\\\"Z\\\" is vowel: \" ,isVowel('Z'))"
      ],
      "execution_count": 0,
      "outputs": [
        {
          "output_type": "stream",
          "text": [
            "\"A\" is vowel:  True\n",
            "\"Z\" is vowel:  False\n"
          ],
          "name": "stdout"
        }
      ]
    }
  ]
}