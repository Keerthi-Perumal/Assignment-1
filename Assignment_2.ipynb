{
  "nbformat": 4,
  "nbformat_minor": 0,
  "metadata": {
    "colab": {
      "name": "Assignment 2",
      "provenance": [],
      "collapsed_sections": [],
      "toc_visible": true,
      "include_colab_link": true
    },
    "kernelspec": {
      "display_name": "Python 3",
      "name": "python3"
    }
  },
  "cells": [
    {
      "cell_type": "markdown",
      "metadata": {
        "id": "view-in-github",
        "colab_type": "text"
      },
      "source": [
        "<a href=\"https://colab.research.google.com/github/Keerthi-Perumal/Assignment-1/blob/master/Assignment_2.ipynb\" target=\"_parent\"><img src=\"https://colab.research.google.com/assets/colab-badge.svg\" alt=\"Open In Colab\"/></a>"
      ]
    },
    {
      "cell_type": "code",
      "metadata": {
        "id": "OooYcOEkeRbp",
        "colab_type": "code",
        "colab": {}
      },
      "source": [
        "l = ['x','y','z']\n",
        "\n",
        "op1 = [i*n for i in l for n in range(1,5)]"
      ],
      "execution_count": 0,
      "outputs": []
    },
    {
      "cell_type": "code",
      "metadata": {
        "id": "WSLfgjDxfZbA",
        "colab_type": "code",
        "outputId": "21e6a2a5-ae06-4040-9a03-65d7ac9fa2d2",
        "colab": {
          "base_uri": "https://localhost:8080/",
          "height": 34
        }
      },
      "source": [
        "op1"
      ],
      "execution_count": 0,
      "outputs": [
        {
          "output_type": "execute_result",
          "data": {
            "text/plain": [
              "['x', 'xx', 'xxx', 'xxxx', 'y', 'yy', 'yyy', 'yyyy', 'z', 'zz', 'zzz', 'zzzz']"
            ]
          },
          "metadata": {
            "tags": []
          },
          "execution_count": 11
        }
      ]
    },
    {
      "cell_type": "code",
      "metadata": {
        "id": "z1_j23xwfokV",
        "colab_type": "code",
        "colab": {}
      },
      "source": [
        "op2 = [i*n for n in range(1,5) for i in l]"
      ],
      "execution_count": 0,
      "outputs": []
    },
    {
      "cell_type": "code",
      "metadata": {
        "id": "48CaRjhEf_Y9",
        "colab_type": "code",
        "outputId": "df8d197a-3004-4e82-a511-b831f4194c3f",
        "colab": {
          "base_uri": "https://localhost:8080/",
          "height": 34
        }
      },
      "source": [
        "op2\n"
      ],
      "execution_count": 0,
      "outputs": [
        {
          "output_type": "execute_result",
          "data": {
            "text/plain": [
              "['x', 'y', 'z', 'xx', 'yy', 'zz', 'xxx', 'yyy', 'zzz', 'xxxx', 'yyyy', 'zzzz']"
            ]
          },
          "metadata": {
            "tags": []
          },
          "execution_count": 13
        }
      ]
    },
    {
      "cell_type": "code",
      "metadata": {
        "id": "AWzSXZIogIAN",
        "colab_type": "code",
        "colab": {}
      },
      "source": [
        "start = 2\n",
        "op3 = [[b] for a in range(start,start+3) for b in range(a,a+3)  ]"
      ],
      "execution_count": 0,
      "outputs": []
    },
    {
      "cell_type": "markdown",
      "metadata": {
        "id": "MdLNNgWaiw1G",
        "colab_type": "text"
      },
      "source": [
        ""
      ]
    },
    {
      "cell_type": "code",
      "metadata": {
        "id": "81V7ho1RgxO3",
        "colab_type": "code",
        "outputId": "808b8619-cab7-4f0a-b7d5-0d29f286f6c3",
        "colab": {
          "base_uri": "https://localhost:8080/",
          "height": 34
        }
      },
      "source": [
        "op3"
      ],
      "execution_count": 0,
      "outputs": [
        {
          "output_type": "execute_result",
          "data": {
            "text/plain": [
              "[[2], [3], [4], [3], [4], [5], [4], [5], [6]]"
            ]
          },
          "metadata": {
            "tags": []
          },
          "execution_count": 45
        }
      ]
    },
    {
      "cell_type": "code",
      "metadata": {
        "id": "mhRnhSmIjHHa",
        "colab_type": "code",
        "colab": {}
      },
      "source": [
        "\n",
        "op4 = [[b for b in range(a,a+4) ]for a in range(start,start+4)]   "
      ],
      "execution_count": 0,
      "outputs": []
    },
    {
      "cell_type": "code",
      "metadata": {
        "id": "YYE1dPhYjMVZ",
        "colab_type": "code",
        "outputId": "5a3d8cd3-4c98-4b87-9bf7-2c5ec9b962a0",
        "colab": {
          "base_uri": "https://localhost:8080/",
          "height": 34
        }
      },
      "source": [
        "op4"
      ],
      "execution_count": 0,
      "outputs": [
        {
          "output_type": "execute_result",
          "data": {
            "text/plain": [
              "[[2, 3, 4, 5], [3, 4, 5, 6], [4, 5, 6, 7], [5, 6, 7, 8]]"
            ]
          },
          "metadata": {
            "tags": []
          },
          "execution_count": 47
        }
      ]
    },
    {
      "cell_type": "code",
      "metadata": {
        "id": "0_t63XyvjpZB",
        "colab_type": "code",
        "colab": {}
      },
      "source": [
        "op5 = [(j,i) for i in range(1,4) for j in range(1,4)]"
      ],
      "execution_count": 0,
      "outputs": []
    },
    {
      "cell_type": "code",
      "metadata": {
        "id": "tCVNV15mkJov",
        "colab_type": "code",
        "outputId": "18a8f984-0ed0-4dc4-92ad-7a03269a3679",
        "colab": {
          "base_uri": "https://localhost:8080/",
          "height": 34
        }
      },
      "source": [
        "op5"
      ],
      "execution_count": 0,
      "outputs": [
        {
          "output_type": "execute_result",
          "data": {
            "text/plain": [
              "[(1, 1), (2, 1), (3, 1), (1, 2), (2, 2), (3, 2), (1, 3), (2, 3), (3, 3)]"
            ]
          },
          "metadata": {
            "tags": []
          },
          "execution_count": 49
        }
      ]
    },
    {
      "cell_type": "code",
      "metadata": {
        "id": "P1wUVqgEpJMW",
        "colab_type": "code",
        "colab": {}
      },
      "source": [
        "def longestword(wordlist):\n",
        "  len_list = [len(l) for l in wordlist]\n",
        "  idx = len_list.index((max(len_list)))\n",
        "  return str(wordlist[idx])"
      ],
      "execution_count": 0,
      "outputs": []
    },
    {
      "cell_type": "code",
      "metadata": {
        "id": "KAG6yEUNl1rD",
        "colab_type": "code",
        "outputId": "28b9c7b3-ed28-4cf7-ef2c-46774fb6cf22",
        "colab": {
          "base_uri": "https://localhost:8080/",
          "height": 34
        }
      },
      "source": [
        "wordlist=[\"Hi\",\"Hello\",\"Thanks dude\"]\n",
        "print(\"Longest word in list: \",longestword(wordlist))"
      ],
      "execution_count": 0,
      "outputs": [
        {
          "output_type": "stream",
          "text": [
            "Longest word in list:  Thanks dude\n"
          ],
          "name": "stdout"
        }
      ]
    },
    {
      "cell_type": "code",
      "metadata": {
        "id": "2cNBH8oHqA_K",
        "colab_type": "code",
        "outputId": "338db63b-b92c-423e-a381-b3840521fff4",
        "colab": {
          "base_uri": "https://localhost:8080/",
          "height": 52
        }
      },
      "source": [
        "def isVowel(c):\n",
        "  return c.lower() in ['a','e','i','o','u']\n",
        "\n",
        "print(\"\\\"A\\\" is vowel: \" ,isVowel('A'))\n",
        "print(\"\\\"Z\\\" is vowel: \" ,isVowel('Z'))"
      ],
      "execution_count": 0,
      "outputs": [
        {
          "output_type": "stream",
          "text": [
            "\"A\" is vowel:  True\n",
            "\"Z\" is vowel:  False\n"
          ],
          "name": "stdout"
        }
      ]
    },
    {
      "cell_type": "code",
      "metadata": {
        "id": "cXkTdHsGrFE_",
        "colab_type": "code",
        "colab": {}
      },
      "source": [
        "def lengthofword(wordlist):\n",
        "  return [len(l) for l in wordlist]"
      ],
      "execution_count": 0,
      "outputs": []
    },
    {
      "cell_type": "code",
      "metadata": {
        "id": "xJ_kSYF4rM6A",
        "colab_type": "code",
        "outputId": "8816f3f0-d065-4d96-84d1-ed1fbe548524",
        "colab": {
          "base_uri": "https://localhost:8080/",
          "height": 70
        }
      },
      "source": [
        "wordlist=[\"Hi\",\"Hello\",\"Thanks dude\"]\n",
        "print(\"Length of words in list\")\n",
        "print(wordlist)\n",
        "print(lengthofword(wordlist))"
      ],
      "execution_count": 0,
      "outputs": [
        {
          "output_type": "stream",
          "text": [
            "Length of words in list\n",
            "['Hi', 'Hello', 'Thanks dude']\n",
            "[2, 5, 11]\n"
          ],
          "name": "stdout"
        }
      ]
    },
    {
      "cell_type": "code",
      "metadata": {
        "id": "5Odh3Gi5rt1q",
        "colab_type": "code",
        "colab": {}
      },
      "source": [
        "def longerWords(wordlist,n):\n",
        "  return [l for l in wordlist if len(l)>n]"
      ],
      "execution_count": 0,
      "outputs": []
    },
    {
      "cell_type": "code",
      "metadata": {
        "id": "UgxKI5xmsAMF",
        "colab_type": "code",
        "outputId": "847682c9-2c55-41e3-ec59-b523bd4972b3",
        "colab": {
          "base_uri": "https://localhost:8080/",
          "height": 52
        }
      },
      "source": [
        "wordlist=[\"Hi\",\"Hello\",\"Thanks dude\",\"ineuron\",\"world\"]\n",
        "n=3\n",
        "print(\"words with more than \",n,\" characters\")\n",
        "print(longerWords(wordlist,n))"
      ],
      "execution_count": 0,
      "outputs": [
        {
          "output_type": "stream",
          "text": [
            "words with more than  3  characters\n",
            "['Hello', 'Thanks dude', 'ineuron', 'world']\n"
          ],
          "name": "stdout"
        }
      ]
    }
  ]
}